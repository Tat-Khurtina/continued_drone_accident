{
 "cells": [
  {
   "cell_type": "code",
   "execution_count": 5,
   "metadata": {},
   "outputs": [
    {
     "name": "stdout",
     "output_type": "stream",
     "text": [
      "\n",
      "distanceMin \n",
      "48.82622246293481\n"
     ]
    }
   ],
   "source": [
    "#ПОЛУЧЕНИЕ КОНТУРОВ\n",
    "\n",
    "import numpy as np\n",
    "import cv2\n",
    "im = cv2.imread('chs.png')\n",
    "imgray = cv2.cvtColor(im,cv2.COLOR_BGR2GRAY)\n",
    "ret,thresh = cv2.threshold(imgray,0,255,0)\n",
    "im2, contours, hierarchy = cv2.findContours(thresh,cv2.RETR_TREE,cv2.CHAIN_APPROX_NONE)\n",
    "cv2.drawContours(im, contours, -1, (0,255,0), 3)\n",
    "#cv2.drawContours(im, contours[4], -1, (0,255,0), 3)\n",
    "#print(contours)\n",
    "#print(type(contours))\n",
    "\n",
    "cv2.imshow('contours', im) # выводим итоговое изображение в окно\n",
    "cv2.waitKey()\n",
    "cv2.destroyAllWindows()\n",
    "\n",
    "#МИНИМАЛЬНОЕ РАССТОЯНИЕ МЕЖДУ ДВУМЯ КОНТУРАМИ\n",
    "\n",
    "A = contours[2]\n",
    "B = contours[4]\n",
    "#print(A)\n",
    "#print()    \n",
    "#print() \n",
    "#print(B)\n",
    "\n",
    "xA = 0.0\n",
    "yA = 0.0\n",
    "xB = 0.0\n",
    "yB = 0.0\n",
    "\n",
    "distanceMin = 99999999\n",
    "for xyA in range(len(A)):\n",
    "    for xyB in range(len(B)):\n",
    "            xA=A[xyA][0][0]\n",
    "            yA=A[xyA][0][1]\n",
    "            xB=B[xyB][0][0]\n",
    "            yB=B[xyB][0][1]\n",
    "            distance = ((xB-xA)**2+(yB-yA)**2)**(1/2)\n",
    "            #print(distance)\n",
    "            if (distance < distanceMin):\n",
    "                distanceMin = distance\n",
    "print()    \n",
    "print(\"distanceMin \") \n",
    "print(distanceMin)\n",
    "   \n"
   ]
  },
  {
   "cell_type": "code",
   "execution_count": null,
   "metadata": {},
   "outputs": [],
   "source": []
  }
 ],
 "metadata": {
  "kernelspec": {
   "display_name": "Python 3",
   "language": "python",
   "name": "python3"
  },
  "language_info": {
   "codemirror_mode": {
    "name": "ipython",
    "version": 3
   },
   "file_extension": ".py",
   "mimetype": "text/x-python",
   "name": "python",
   "nbconvert_exporter": "python",
   "pygments_lexer": "ipython3",
   "version": "3.6.5"
  }
 },
 "nbformat": 4,
 "nbformat_minor": 2
}
